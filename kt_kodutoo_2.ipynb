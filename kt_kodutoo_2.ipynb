{
  "cells": [
    {
      "cell_type": "markdown",
      "metadata": {
        "id": "view-in-github",
        "colab_type": "text"
      },
      "source": [
        "<a href=\"https://colab.research.google.com/github/KatariinaIngerma/Text-classification/blob/main/kt_kodutoo_2.ipynb\" target=\"_parent\"><img src=\"https://colab.research.google.com/assets/colab-badge.svg\" alt=\"Open In Colab\"/></a>"
      ]
    },
    {
      "cell_type": "markdown",
      "metadata": {
        "id": "pais"
      },
      "source": [
        "# LTAT.01.002 Keeletehnoloogia\n",
        "#  Tekstide liigitamine"
      ]
    },
    {
      "cell_type": "code",
      "execution_count": null,
      "metadata": {
        "id": "colab_install",
        "colab": {
          "base_uri": "https://localhost:8080/"
        },
        "outputId": "6c72602b-8383-4ad7-96d1-adb6c12179ac"
      },
      "outputs": [
        {
          "output_type": "stream",
          "name": "stdout",
          "text": [
            "Collecting estnltk==1.7.2\n",
            "  Downloading estnltk-1.7.2-cp310-cp310-manylinux_2_17_x86_64.manylinux2014_x86_64.whl (70.7 MB)\n",
            "\u001b[2K     \u001b[90m━━━━━━━━━━━━━━━━━━━━━━━━━━━━━━━━━━━━━━━━\u001b[0m \u001b[32m70.7/70.7 MB\u001b[0m \u001b[31m4.5 MB/s\u001b[0m eta \u001b[36m0:00:00\u001b[0m\n",
            "\u001b[?25hCollecting estnltk-core>=1.7.2 (from estnltk==1.7.2)\n",
            "  Downloading estnltk_core-1.7.2-py3-none-any.whl (222 kB)\n",
            "\u001b[2K     \u001b[90m━━━━━━━━━━━━━━━━━━━━━━━━━━━━━━━━━━━━━━━━\u001b[0m \u001b[32m222.2/222.2 kB\u001b[0m \u001b[31m10.2 MB/s\u001b[0m eta \u001b[36m0:00:00\u001b[0m\n",
            "\u001b[?25hRequirement already satisfied: nltk>=3.4.1 in /usr/local/lib/python3.10/dist-packages (from estnltk==1.7.2) (3.8.1)\n",
            "Requirement already satisfied: regex>=2015.07.19 in /usr/local/lib/python3.10/dist-packages (from estnltk==1.7.2) (2023.6.3)\n",
            "Collecting python-crfsuite>=0.8.3 (from estnltk==1.7.2)\n",
            "  Downloading python_crfsuite-0.9.10-cp310-cp310-manylinux_2_17_x86_64.manylinux2014_x86_64.whl (1.1 MB)\n",
            "\u001b[2K     \u001b[90m━━━━━━━━━━━━━━━━━━━━━━━━━━━━━━━━━━━━━━━━\u001b[0m \u001b[32m1.1/1.1 MB\u001b[0m \u001b[31m12.7 MB/s\u001b[0m eta \u001b[36m0:00:00\u001b[0m\n",
            "\u001b[?25hCollecting cached-property>=1.2.0 (from estnltk==1.7.2)\n",
            "  Downloading cached_property-1.5.2-py2.py3-none-any.whl (7.6 kB)\n",
            "Collecting bs4 (from estnltk==1.7.2)\n",
            "  Downloading bs4-0.0.2-py2.py3-none-any.whl (1.2 kB)\n",
            "Requirement already satisfied: html5lib in /usr/local/lib/python3.10/dist-packages (from estnltk==1.7.2) (1.1)\n",
            "Requirement already satisfied: lxml in /usr/local/lib/python3.10/dist-packages (from estnltk==1.7.2) (4.9.4)\n",
            "Requirement already satisfied: networkx in /usr/local/lib/python3.10/dist-packages (from estnltk==1.7.2) (3.2.1)\n",
            "Requirement already satisfied: matplotlib in /usr/local/lib/python3.10/dist-packages (from estnltk==1.7.2) (3.7.1)\n",
            "Requirement already satisfied: requests in /usr/local/lib/python3.10/dist-packages (from estnltk==1.7.2) (2.31.0)\n",
            "Requirement already satisfied: tqdm in /usr/local/lib/python3.10/dist-packages (from estnltk==1.7.2) (4.66.1)\n",
            "Requirement already satisfied: ipython in /usr/local/lib/python3.10/dist-packages (from estnltk==1.7.2) (7.34.0)\n",
            "Collecting conllu (from estnltk==1.7.2)\n",
            "  Downloading conllu-4.5.3-py2.py3-none-any.whl (16 kB)\n",
            "Requirement already satisfied: pandas in /usr/local/lib/python3.10/dist-packages (from estnltk==1.7.2) (1.5.3)\n",
            "Collecting pyahocorasick (from estnltk==1.7.2)\n",
            "  Downloading pyahocorasick-2.0.0-cp310-cp310-manylinux_2_5_x86_64.manylinux1_x86_64.manylinux_2_12_x86_64.manylinux2010_x86_64.whl (110 kB)\n",
            "\u001b[2K     \u001b[90m━━━━━━━━━━━━━━━━━━━━━━━━━━━━━━━━━━━━━━━━\u001b[0m \u001b[32m110.8/110.8 kB\u001b[0m \u001b[31m6.2 MB/s\u001b[0m eta \u001b[36m0:00:00\u001b[0m\n",
            "\u001b[?25hRequirement already satisfied: click in /usr/local/lib/python3.10/dist-packages (from nltk>=3.4.1->estnltk==1.7.2) (8.1.7)\n",
            "Requirement already satisfied: joblib in /usr/local/lib/python3.10/dist-packages (from nltk>=3.4.1->estnltk==1.7.2) (1.3.2)\n",
            "Requirement already satisfied: beautifulsoup4 in /usr/local/lib/python3.10/dist-packages (from bs4->estnltk==1.7.2) (4.11.2)\n",
            "Requirement already satisfied: six>=1.9 in /usr/local/lib/python3.10/dist-packages (from html5lib->estnltk==1.7.2) (1.16.0)\n",
            "Requirement already satisfied: webencodings in /usr/local/lib/python3.10/dist-packages (from html5lib->estnltk==1.7.2) (0.5.1)\n",
            "Requirement already satisfied: setuptools>=18.5 in /usr/local/lib/python3.10/dist-packages (from ipython->estnltk==1.7.2) (67.7.2)\n",
            "Collecting jedi>=0.16 (from ipython->estnltk==1.7.2)\n",
            "  Downloading jedi-0.19.1-py2.py3-none-any.whl (1.6 MB)\n",
            "\u001b[2K     \u001b[90m━━━━━━━━━━━━━━━━━━━━━━━━━━━━━━━━━━━━━━━━\u001b[0m \u001b[32m1.6/1.6 MB\u001b[0m \u001b[31m26.7 MB/s\u001b[0m eta \u001b[36m0:00:00\u001b[0m\n",
            "\u001b[?25hRequirement already satisfied: decorator in /usr/local/lib/python3.10/dist-packages (from ipython->estnltk==1.7.2) (4.4.2)\n",
            "Requirement already satisfied: pickleshare in /usr/local/lib/python3.10/dist-packages (from ipython->estnltk==1.7.2) (0.7.5)\n",
            "Requirement already satisfied: traitlets>=4.2 in /usr/local/lib/python3.10/dist-packages (from ipython->estnltk==1.7.2) (5.7.1)\n",
            "Requirement already satisfied: prompt-toolkit!=3.0.0,!=3.0.1,<3.1.0,>=2.0.0 in /usr/local/lib/python3.10/dist-packages (from ipython->estnltk==1.7.2) (3.0.43)\n",
            "Requirement already satisfied: pygments in /usr/local/lib/python3.10/dist-packages (from ipython->estnltk==1.7.2) (2.16.1)\n",
            "Requirement already satisfied: backcall in /usr/local/lib/python3.10/dist-packages (from ipython->estnltk==1.7.2) (0.2.0)\n",
            "Requirement already satisfied: matplotlib-inline in /usr/local/lib/python3.10/dist-packages (from ipython->estnltk==1.7.2) (0.1.6)\n",
            "Requirement already satisfied: pexpect>4.3 in /usr/local/lib/python3.10/dist-packages (from ipython->estnltk==1.7.2) (4.9.0)\n",
            "Requirement already satisfied: contourpy>=1.0.1 in /usr/local/lib/python3.10/dist-packages (from matplotlib->estnltk==1.7.2) (1.2.0)\n",
            "Requirement already satisfied: cycler>=0.10 in /usr/local/lib/python3.10/dist-packages (from matplotlib->estnltk==1.7.2) (0.12.1)\n",
            "Requirement already satisfied: fonttools>=4.22.0 in /usr/local/lib/python3.10/dist-packages (from matplotlib->estnltk==1.7.2) (4.47.2)\n",
            "Requirement already satisfied: kiwisolver>=1.0.1 in /usr/local/lib/python3.10/dist-packages (from matplotlib->estnltk==1.7.2) (1.4.5)\n",
            "Requirement already satisfied: numpy>=1.20 in /usr/local/lib/python3.10/dist-packages (from matplotlib->estnltk==1.7.2) (1.23.5)\n",
            "Requirement already satisfied: packaging>=20.0 in /usr/local/lib/python3.10/dist-packages (from matplotlib->estnltk==1.7.2) (23.2)\n",
            "Requirement already satisfied: pillow>=6.2.0 in /usr/local/lib/python3.10/dist-packages (from matplotlib->estnltk==1.7.2) (9.4.0)\n",
            "Requirement already satisfied: pyparsing>=2.3.1 in /usr/local/lib/python3.10/dist-packages (from matplotlib->estnltk==1.7.2) (3.1.1)\n",
            "Requirement already satisfied: python-dateutil>=2.7 in /usr/local/lib/python3.10/dist-packages (from matplotlib->estnltk==1.7.2) (2.8.2)\n",
            "Requirement already satisfied: pytz>=2020.1 in /usr/local/lib/python3.10/dist-packages (from pandas->estnltk==1.7.2) (2023.3.post1)\n",
            "Requirement already satisfied: charset-normalizer<4,>=2 in /usr/local/lib/python3.10/dist-packages (from requests->estnltk==1.7.2) (3.3.2)\n",
            "Requirement already satisfied: idna<4,>=2.5 in /usr/local/lib/python3.10/dist-packages (from requests->estnltk==1.7.2) (3.6)\n",
            "Requirement already satisfied: urllib3<3,>=1.21.1 in /usr/local/lib/python3.10/dist-packages (from requests->estnltk==1.7.2) (2.0.7)\n",
            "Requirement already satisfied: certifi>=2017.4.17 in /usr/local/lib/python3.10/dist-packages (from requests->estnltk==1.7.2) (2023.11.17)\n",
            "Requirement already satisfied: parso<0.9.0,>=0.8.3 in /usr/local/lib/python3.10/dist-packages (from jedi>=0.16->ipython->estnltk==1.7.2) (0.8.3)\n",
            "Requirement already satisfied: ptyprocess>=0.5 in /usr/local/lib/python3.10/dist-packages (from pexpect>4.3->ipython->estnltk==1.7.2) (0.7.0)\n",
            "Requirement already satisfied: wcwidth in /usr/local/lib/python3.10/dist-packages (from prompt-toolkit!=3.0.0,!=3.0.1,<3.1.0,>=2.0.0->ipython->estnltk==1.7.2) (0.2.13)\n",
            "Requirement already satisfied: soupsieve>1.2 in /usr/local/lib/python3.10/dist-packages (from beautifulsoup4->bs4->estnltk==1.7.2) (2.5)\n",
            "Installing collected packages: python-crfsuite, cached-property, pyahocorasick, jedi, conllu, bs4, estnltk-core, estnltk\n",
            "Successfully installed bs4-0.0.2 cached-property-1.5.2 conllu-4.5.3 estnltk-1.7.2 estnltk-core-1.7.2 jedi-0.19.1 pyahocorasick-2.0.0 python-crfsuite-0.9.10\n"
          ]
        }
      ],
      "source": [
        "# Colabi jaoks\n",
        "!pip install estnltk==1.7.2\n",
        "\n",
        "from google.colab import drive\n",
        "drive.mount('/content/drive')\n",
        "import os\n",
        "os.chdir('/content/drive/My Drive/Colab Notebooks/')"
      ]
    },
    {
      "cell_type": "code",
      "execution_count": null,
      "metadata": {
        "id": "unzip"
      },
      "outputs": [],
      "source": [
        "# Vajadusel kasutada üleslaetud failide lahtipakkimiseks\n",
        "# Failide lahtipakkimine\n",
        "#!unzip a_test.zip\n",
        "#!unzip a_train.zip"
      ]
    },
    {
      "cell_type": "code",
      "execution_count": null,
      "metadata": {
        "id": "import",
        "colab": {
          "base_uri": "https://localhost:8080/"
        },
        "outputId": "517ff360-9d5f-4fe6-9914-a7e1b8fd2d24"
      },
      "outputs": [
        {
          "output_type": "stream",
          "name": "stderr",
          "text": [
            "[nltk_data] Downloading package punkt to /root/nltk_data...\n",
            "[nltk_data]   Package punkt is already up-to-date!\n"
          ]
        },
        {
          "output_type": "execute_result",
          "data": {
            "text/plain": [
              "True"
            ]
          },
          "metadata": {},
          "execution_count": 2
        }
      ],
      "source": [
        "import random\n",
        "import os\n",
        "import pandas as pd\n",
        "import re\n",
        "import string\n",
        "import nltk\n",
        "from estnltk import Text\n",
        "import estnltk\n",
        "from sklearn.feature_extraction.text import CountVectorizer\n",
        "from sklearn.naive_bayes import MultinomialNB\n",
        "from sklearn.svm import SVC\n",
        "from sklearn.feature_extraction.text import TfidfTransformer\n",
        "import numpy as np\n",
        "import gensim\n",
        "from gensim.models import Word2Vec\n",
        "nltk.download('punkt')"
      ]
    },
    {
      "cell_type": "code",
      "execution_count": null,
      "metadata": {
        "id": "yldfunktsioonid"
      },
      "outputs": [],
      "source": [
        "labels = [\"www.advent.ee\", \"www.bioneer.ee\", \"www.lapsemure.ee\", \"www.naisteleht.ee\", \"arvamus.postimees.ee\"]\n",
        "\n",
        "# Korpuse sisselugemine (korpus asub programmifaili kausta alamkaustas)\n",
        "def loaddata(corpus):\n",
        "    columns = ['label', 'text']\n",
        "    data = pd.DataFrame(columns = columns)\n",
        "    for f in os.listdir(os.getcwd() + \"/\" + corpus):\n",
        "        df = pd.read_csv(os.getcwd() + \"/\" + corpus + \"/\" + f, delimiter=\"\\t\", index_col=None, header=None, names=columns)\n",
        "        data = pd.concat([data, df])\n",
        "    data = data.reset_index(drop=True)\n",
        "    return data\n",
        "\n",
        "# Hindamine (testhulgal)\n",
        "# Sisend: treenimisfunktsiooni väljundist saadud mudel ja testkorpuses olev info DataFrame'ina\n",
        "def evaluate(model, testset):\n",
        "    correct = 0\n",
        "    for i, row in testset.iterrows():\n",
        "        rightAnswer = row['label']\n",
        "        text = row['text']\n",
        "        prediction = predict(model, text)\n",
        "        #print(rightAnswer, prediction)\n",
        "        if rightAnswer == prediction:\n",
        "            correct += 1\n",
        "    accuracy = correct/len(testset)\n",
        "    print(\"Täpsus: {0:}%\".format(100.0 * accuracy))\n",
        "    return accuracy\n",
        "\n",
        "# Treenimine\n",
        "def train():\n",
        "    # Treenime mudelit\n",
        "    model = learn(trainset)\n",
        "    return model\n",
        "\n",
        "# Testimine\n",
        "def test(model):\n",
        "    # Hindame tulemusi testhulgal\n",
        "    accuracy = evaluate(model, testset)\n",
        "    return accuracy"
      ]
    },
    {
      "cell_type": "code",
      "execution_count": null,
      "metadata": {
        "id": "andmed"
      },
      "outputs": [],
      "source": [
        "\n",
        "# Loeme sisse treeningandmed ja teisendame need DataFrame'i kujule\n",
        "trainset = loaddata(\"a_train\")\n",
        "# Loeme sisse testandmed ja teisendame need DataFrame'i kujule\n",
        "testset = loaddata(\"a_test\")"
      ]
    },
    {
      "cell_type": "markdown",
      "metadata": {
        "id": "mudel_1_pais"
      },
      "source": [
        "## Mudel 1: Bag-of-words sõnade põhjal"
      ]
    },
    {
      "cell_type": "code",
      "execution_count": null,
      "metadata": {
        "id": "mudel_1_funktsioonid"
      },
      "outputs": [],
      "source": [
        "# Treenimine\n",
        "# Sisend: treeningkorpuses olev info DataFrame'ina\n",
        "# Väljund: mudel, millega suudab ennustamisfunktsioon hakkama saada\n",
        "count_vect = CountVectorizer()\n",
        "tfidf_transformer = TfidfTransformer()\n",
        "def learn(trainset):\n",
        "\n",
        "    count_counts = count_vect.fit_transform(trainset['text'])\n",
        "\n",
        "    count_tfidf = tfidf_transformer.fit_transform(count_counts)\n",
        "\n",
        "    model = MultinomialNB().fit(count_tfidf, trainset[\"label\"])\n",
        "\n",
        "    return model\n",
        "# Ennustamine\n",
        "# Sisend: treenimisfunktsiooni väljundist saadud mudel ja tekstinäide, mida peab liigitama\n",
        "# Väljund: üks element järjendist \"labels\"\n",
        "def predict(model, sample):\n",
        "\n",
        "    sample_counts = count_vect.transform([sample])\n",
        "    sample_tfidf = tfidf_transformer.transform(sample_counts)\n",
        "\n",
        "\n",
        "    predicted_label = model.predict(sample_tfidf)[0]\n",
        "\n",
        "    return predicted_label"
      ]
    },
    {
      "cell_type": "code",
      "execution_count": null,
      "metadata": {
        "id": "mudel_1_train"
      },
      "outputs": [],
      "source": [
        "model = train()"
      ]
    },
    {
      "cell_type": "code",
      "execution_count": null,
      "metadata": {
        "id": "mudel_1_test",
        "colab": {
          "base_uri": "https://localhost:8080/"
        },
        "outputId": "0d5b4c6c-122c-40e6-9bdc-d53aaab437e3"
      },
      "outputs": [
        {
          "output_type": "stream",
          "name": "stdout",
          "text": [
            "Täpsus: 60.333333333333336%\n"
          ]
        },
        {
          "output_type": "execute_result",
          "data": {
            "text/plain": [
              "0.6033333333333334"
            ]
          },
          "metadata": {},
          "execution_count": 7
        }
      ],
      "source": [
        "test(model)"
      ]
    },
    {
      "cell_type": "markdown",
      "metadata": {
        "id": "mudel_2_pais"
      },
      "source": [
        "## Mudel 2: Bag-of-words lemmade põhjal (stopp-sõnadega arvestamata)"
      ]
    },
    {
      "cell_type": "code",
      "execution_count": null,
      "metadata": {
        "id": "mudel_2_funktsioonid"
      },
      "outputs": [],
      "source": [
        "# Treenimine\n",
        "# Sisend: treeningkorpuses olev info DataFrame'ina\n",
        "# Väljund: mudel, millega suudab ennustamisfunktsioon hakkama saada\n",
        "count_vect = CountVectorizer()\n",
        "tfidf_transformer = TfidfTransformer()\n",
        "def learn(trainset):\n",
        "\n",
        "    # Siia tuleb kirjutada kood, mis loob ja tagastab mudeli\n",
        "    texts = trainset['text'].tolist()\n",
        "    tekstidLemmalistidena = [Text(tekst).tag_layer().words.lemma for tekst in texts]\n",
        "    lemmatiseeritud = [\" \".join([lemma[0] for lemma in tekst]) for tekst in tekstidLemmalistidena]\n",
        "\n",
        "    count_counts = count_vect.fit_transform(lemmatiseeritud)\n",
        "    count_tfidf = tfidf_transformer.fit_transform(count_counts)\n",
        "\n",
        "    model = MultinomialNB().fit(count_tfidf, trainset[\"label\"])\n",
        "\n",
        "    return model\n",
        "\n",
        "# Ennustamine\n",
        "# Sisend: treenimisfunktsiooni väljundist saadud mudel ja tekstinäide, mida peab liigitama\n",
        "# Väljund: üks element järjendist \"labels\"\n",
        "def predict(model, sample):\n",
        "    cat = random.choice(labels)\n",
        "    # Siia tuleb kirjutada kood, mis tagastab antud teksti liigi\n",
        "    sample_lemmatized = \" \".join([lemma[0] for lemma in Text(sample).tag_layer().words.lemma])\n",
        "\n",
        "    sample_counts = count_vect.transform([sample])\n",
        "    sample_tfidf = tfidf_transformer.transform(sample_counts)\n",
        "\n",
        "\n",
        "    predicted_label = model.predict(sample_tfidf)[0]\n",
        "\n",
        "    return predicted_label"
      ]
    },
    {
      "cell_type": "code",
      "source": [
        "def predict(model, sample):\n",
        "    # Siia tuleb kirjutada kood, mis tagastab antud teksti liigi\n",
        "    sample = \" \".join([lemma[0] for lemma in Text(sample).tag_layer().words.lemma])\n",
        "\n",
        "    sample_counts = count_vect.transform([sample])\n",
        "    sample_tfidf = tfidf_transformer.transform(sample_counts)\n",
        "\n",
        "\n",
        "    predicted_label = model.predict(sample_tfidf)[0]\n",
        "\n",
        "    return predicted_label"
      ],
      "metadata": {
        "id": "O7G4l5J8O4ZJ"
      },
      "execution_count": null,
      "outputs": []
    },
    {
      "cell_type": "code",
      "execution_count": null,
      "metadata": {
        "id": "mudel_2_train"
      },
      "outputs": [],
      "source": [
        "model = train()"
      ]
    },
    {
      "cell_type": "code",
      "execution_count": null,
      "metadata": {
        "id": "mudel_2_test",
        "colab": {
          "base_uri": "https://localhost:8080/"
        },
        "outputId": "80ec3dff-fd05-4fdb-a949-aa0f272c5204"
      },
      "outputs": [
        {
          "output_type": "stream",
          "name": "stdout",
          "text": [
            "Täpsus: 59.333333333333336%\n"
          ]
        },
        {
          "output_type": "execute_result",
          "data": {
            "text/plain": [
              "0.5933333333333334"
            ]
          },
          "metadata": {},
          "execution_count": 11
        }
      ],
      "source": [
        "test(model)"
      ]
    },
    {
      "cell_type": "markdown",
      "metadata": {
        "id": "mudel_3_pais"
      },
      "source": [
        "## Mudel 3: Bag-of-words lemmade põhjal (stopp-sõnadega arvestades)"
      ]
    },
    {
      "cell_type": "code",
      "source": [
        "stop_words = [\n",
        "    \"olema\",\n",
        "    \"ja\",\n",
        "    \"see\",\n",
        "    \"tema\",\n",
        "    \"mina\",\n",
        "    \"ei\",\n",
        "    \"et\",\n",
        "    \"kui\",\n",
        "    \"mis\",\n",
        "    \"ka\",\n",
        "    \"saama\",\n",
        "    \"ning\",\n",
        "    \"oma\",\n",
        "    \"aga\",\n",
        "    \"sina\",\n",
        "    \"pidama\",\n",
        "    \"siis\",\n",
        "    \"või\",\n",
        "    \"kes\",\n",
        "    \"ju\",\n",
        "    \"meie\",\n",
        "    \"nii\",\n",
        "    \"ise\",\n",
        "    \"kuid\",\n",
        "    \"kõik\",\n",
        "    \"kas\",\n",
        "    \"vaid\",\n",
        "    \"mitte\",\n",
        "    \"miski\",\n",
        "    \"sest\",\n",
        "    \"kus\",\n",
        "    \"iga\"\n",
        "    ]\n"
      ],
      "metadata": {
        "id": "bGkmDGKlbGLz"
      },
      "execution_count": null,
      "outputs": []
    },
    {
      "cell_type": "code",
      "execution_count": null,
      "metadata": {
        "id": "mudel_3_funktsioonid"
      },
      "outputs": [],
      "source": [
        "# Treenimine\n",
        "# Sisend: treeningkorpuses olev info DataFrame'ina\n",
        "# Väljund: mudel, millega suudab ennustamisfunktsioon hakkama saada\n",
        "count_vect = CountVectorizer(stop_words=stop_words)\n",
        "tfidf_transformer = TfidfTransformer()\n",
        "def learn(trainset):\n",
        "    texts = trainset['text'].tolist()\n",
        "    tekstidLemmalistidena = [Text(tekst).tag_layer().words.lemma for tekst in texts]\n",
        "    lemmatiseeritud = [\" \".join([lemma[0] for lemma in tekst]) for tekst in tekstidLemmalistidena]\n",
        "\n",
        "    count_counts = count_vect.fit_transform(lemmatiseeritud)\n",
        "    count_tfidf = tfidf_transformer.fit_transform(count_counts)\n",
        "    model = MultinomialNB().fit(count_tfidf, trainset[\"label\"])\n",
        "    return model\n",
        "\n",
        "# Ennustamine\n",
        "# Sisend: treenimisfunktsiooni väljundist saadud mudel ja tekstinäide, mida peab liigitama\n",
        "# Väljund: üks element järjendist \"labels\"\n",
        "def predict(model, sample):\n",
        "    sample_lemmatized = \" \".join([lemma[0] for lemma in Text(sample).tag_layer().words.lemma])\n",
        "\n",
        "    # Transform the input text using CountVectorizer and TfidfTransformer\n",
        "    sample_counts = count_vect.transform([sample_lemmatized])\n",
        "    sample_tfidf = tfidf_transformer.transform(sample_counts)\n",
        "\n",
        "    # Make predictions using the trained model\n",
        "    predicted_label = model.predict(sample_tfidf)[0]\n",
        "\n",
        "    return predicted_label"
      ]
    },
    {
      "cell_type": "code",
      "execution_count": null,
      "metadata": {
        "id": "mudel_3_train"
      },
      "outputs": [],
      "source": [
        "model = train()"
      ]
    },
    {
      "cell_type": "code",
      "execution_count": null,
      "metadata": {
        "id": "mudel_3_test",
        "colab": {
          "base_uri": "https://localhost:8080/"
        },
        "outputId": "1f29a9b4-469d-4460-fe0f-ea99f6799931"
      },
      "outputs": [
        {
          "output_type": "stream",
          "name": "stdout",
          "text": [
            "Täpsus: 67.66666666666666%\n"
          ]
        },
        {
          "output_type": "execute_result",
          "data": {
            "text/plain": [
              "0.6766666666666666"
            ]
          },
          "metadata": {},
          "execution_count": 15
        }
      ],
      "source": [
        "test(model)"
      ]
    },
    {
      "cell_type": "markdown",
      "metadata": {
        "id": "mudel_4_pais"
      },
      "source": [
        "## Mudel 4: Word2Veci abil"
      ]
    },
    {
      "cell_type": "code",
      "execution_count": null,
      "metadata": {
        "id": "mudel_4_funktsioonid",
        "colab": {
          "base_uri": "https://localhost:8080/"
        },
        "outputId": "433a4889-75ca-4f27-868a-2f5b51cb6cd6"
      },
      "outputs": [
        {
          "output_type": "stream",
          "name": "stderr",
          "text": [
            "INFO:gensim.models.keyedvectors:loading projection weights from lemmas.sg.s200.w2v.bin\n"
          ]
        },
        {
          "output_type": "stream",
          "name": "stdout",
          "text": [
            "INFO:keyedvectors.py:2047: loading projection weights from lemmas.sg.s200.w2v.bin\n"
          ]
        },
        {
          "output_type": "stream",
          "name": "stderr",
          "text": [
            "INFO:gensim.utils:KeyedVectors lifecycle event {'msg': 'loaded (441391, 200) matrix of type float32 from lemmas.sg.s200.w2v.bin', 'binary': True, 'encoding': 'utf8', 'datetime': '2023-10-10T16:19:09.351272', 'gensim': '4.3.2', 'python': '3.10.12 (main, Jun 11 2023, 05:26:28) [GCC 11.4.0]', 'platform': 'Linux-5.15.120+-x86_64-with-glibc2.35', 'event': 'load_word2vec_format'}\n"
          ]
        },
        {
          "output_type": "stream",
          "name": "stdout",
          "text": [
            "INFO:utils.py:448: KeyedVectors lifecycle event {'msg': 'loaded (441391, 200) matrix of type float32 from lemmas.sg.s200.w2v.bin', 'binary': True, 'encoding': 'utf8', 'datetime': '2023-10-10T16:19:09.351272', 'gensim': '4.3.2', 'python': '3.10.12 (main, Jun 11 2023, 05:26:28) [GCC 11.4.0]', 'platform': 'Linux-5.15.120+-x86_64-with-glibc2.35', 'event': 'load_word2vec_format'}\n"
          ]
        }
      ],
      "source": [
        "import estnltk\n",
        "# Treenimine\n",
        "# Sisend: treeningkorpuses olev info DataFrame'ina\n",
        "# Väljund: mudel, millega suudab ennustamisfunktsioon hakkama saada\n",
        "word2vec_model = gensim.models.KeyedVectors.load_word2vec_format('lemmas.sg.s200.w2v.bin', binary=True)\n",
        "def learn(trainset):\n",
        "    # Siia tuleb kirjutada kood, mis loob ja tagastab mudeli\n",
        "    X_train_word2vec = [text_vect(text) for text in trainset['text']]\n",
        "    y_train = trainset['label']\n",
        "\n",
        "    model = SVC(kernel='linear').fit(X_train_word2vec, y_train)\n",
        "    return model\n",
        "\n",
        "# Ennustamine\n",
        "# Sisend: treenimisfunktsiooni väljundist saadud mudel ja tekstinäide, mida peab liigitama\n",
        "# Väljund: üks element järjendist \"labels\"\n",
        "def predict(model, sample):\n",
        "    # Siia tuleb kirjutada kood, mis tagastab antud teksti liigi\n",
        "    sample_vector = text_vect(sample)\n",
        "\n",
        "    predicted_label = model.predict([sample_vector])[0]\n",
        "\n",
        "    return predicted_label\n",
        "\n",
        "# Sisend: tekst\n",
        "# Väljund: vektor word2veci mudelist\n",
        "def text_vect(text):\n",
        "    words = text.split()\n",
        "    vectors = [word2vec_model[word] for word in words if word in word2vec_model]\n",
        "    # Kui vektor on olemas\n",
        "    if vectors:\n",
        "        return sum(vectors) / len(vectors)\n",
        "    else: # Kui vektorit pole siis 0 vektor samades dimesioonides\n",
        "        return [0.0] * word2vec_model.vector_size"
      ]
    },
    {
      "cell_type": "code",
      "source": [
        "model = train()"
      ],
      "metadata": {
        "id": "jK9oAKdKj6Cc"
      },
      "execution_count": null,
      "outputs": []
    },
    {
      "cell_type": "code",
      "execution_count": null,
      "metadata": {
        "id": "mudel_4_test",
        "colab": {
          "base_uri": "https://localhost:8080/"
        },
        "outputId": "99b4c3e5-afe9-473c-9d87-9f1f577a2cd6"
      },
      "outputs": [
        {
          "output_type": "stream",
          "name": "stdout",
          "text": [
            "Täpsus: 84.33333333333334%\n"
          ]
        },
        {
          "output_type": "execute_result",
          "data": {
            "text/plain": [
              "0.8433333333333334"
            ]
          },
          "metadata": {},
          "execution_count": 18
        }
      ],
      "source": [
        "test(model)"
      ]
    },
    {
      "cell_type": "markdown",
      "metadata": {
        "id": "mudel_5_pais"
      },
      "source": [
        "## Mudel 5: parima täpsusega mudel"
      ]
    },
    {
      "cell_type": "code",
      "execution_count": null,
      "metadata": {
        "id": "mudel_5_funktsioonid",
        "colab": {
          "base_uri": "https://localhost:8080/"
        },
        "outputId": "d586da52-6ef8-4937-b4a4-4beb231ecd16"
      },
      "outputs": [
        {
          "output_type": "stream",
          "name": "stderr",
          "text": [
            "INFO:gensim.models.keyedvectors:loading projection weights from lemmas.sg.s200.w2v.bin\n"
          ]
        },
        {
          "output_type": "stream",
          "name": "stdout",
          "text": [
            "INFO:keyedvectors.py:2047: loading projection weights from lemmas.sg.s200.w2v.bin\n"
          ]
        },
        {
          "output_type": "stream",
          "name": "stderr",
          "text": [
            "INFO:gensim.utils:KeyedVectors lifecycle event {'msg': 'loaded (441391, 200) matrix of type float32 from lemmas.sg.s200.w2v.bin', 'binary': True, 'encoding': 'utf8', 'datetime': '2023-10-10T16:19:32.048525', 'gensim': '4.3.2', 'python': '3.10.12 (main, Jun 11 2023, 05:26:28) [GCC 11.4.0]', 'platform': 'Linux-5.15.120+-x86_64-with-glibc2.35', 'event': 'load_word2vec_format'}\n"
          ]
        },
        {
          "output_type": "stream",
          "name": "stdout",
          "text": [
            "INFO:utils.py:448: KeyedVectors lifecycle event {'msg': 'loaded (441391, 200) matrix of type float32 from lemmas.sg.s200.w2v.bin', 'binary': True, 'encoding': 'utf8', 'datetime': '2023-10-10T16:19:32.048525', 'gensim': '4.3.2', 'python': '3.10.12 (main, Jun 11 2023, 05:26:28) [GCC 11.4.0]', 'platform': 'Linux-5.15.120+-x86_64-with-glibc2.35', 'event': 'load_word2vec_format'}\n"
          ]
        }
      ],
      "source": [
        "# Treenimine\n",
        "# Sisend: treeningkorpuses olev info DataFrame'ina\n",
        "# Väljund: mudel, millega suudab ennustamisfunktsioon hakkama saada\n",
        "word2vec_model = gensim.models.KeyedVectors.load_word2vec_format('lemmas.sg.s200.w2v.bin', binary=True)\n",
        "def learn(trainset):\n",
        "    preprocessed_texts = [preprocess_text(text) for text in trainset['text']]\n",
        "\n",
        "    X_train_word2vec = [text_vect(text) for text in preprocessed_texts]\n",
        "    y_train = trainset['label']\n",
        "\n",
        "    model = SVC(kernel='linear').fit(X_train_word2vec, y_train)\n",
        "    return model\n",
        "\n",
        "# Ennustamine\n",
        "# Sisend: treenimisfunktsiooni väljundist saadud mudel ja tekstinäide, mida peab liigitama\n",
        "# Väljund: üks element järjendist \"labels\"\n",
        "def predict(model, sample):\n",
        "    # Siia tuleb kirjutada kood, mis tagastab antud teksti liigi\n",
        "    sample = preprocess_text(sample)\n",
        "    words = sample.split()\n",
        "    words = [word for word in words if word not in stop_words]\n",
        "    sample = \" \".join(words)\n",
        "    sample_vector = text_vect(sample)\n",
        "\n",
        "    predicted_label = model.predict([sample_vector])[0]\n",
        "\n",
        "    return predicted_label\n",
        "\n",
        "# Sisend: tekst\n",
        "# Väljund: vektor word2veci mudelist\n",
        "def text_vect(text):\n",
        "    words = text.split()\n",
        "    #Võtame stop-sõnad ära\n",
        "    words = [word for word in words if word not in stop_words]\n",
        "    vectors = [word2vec_model[word] for word in words if word in word2vec_model]\n",
        "    # Kui vektor on olemas\n",
        "    if vectors:\n",
        "        return sum(vectors) / len(vectors)\n",
        "    else: # Kui vektorit pole siis 0 vektor samades dimesioonides\n",
        "        return [0.0] * word2vec_model.vector_size\n",
        "\n",
        "# Väike eeltöötlus\n",
        "# Sisend: tekst\n",
        "# Väljund: eeltöödeldud tekst, lowerc\n",
        "def preprocess_text(text):\n",
        "  text = text.lower()\n",
        "  text = text.translate(str.maketrans('', '', string.punctuation))\n",
        "\n",
        "  return text\n"
      ]
    },
    {
      "cell_type": "code",
      "execution_count": null,
      "metadata": {
        "id": "mudel_5_train"
      },
      "outputs": [],
      "source": [
        "model = train()"
      ]
    },
    {
      "cell_type": "code",
      "execution_count": null,
      "metadata": {
        "id": "mudel_5_test",
        "colab": {
          "base_uri": "https://localhost:8080/"
        },
        "outputId": "b6e8f5f7-8c6d-41f6-d73b-e19348a1c780"
      },
      "outputs": [
        {
          "output_type": "stream",
          "name": "stdout",
          "text": [
            "Täpsus: 88.33333333333333%\n"
          ]
        },
        {
          "output_type": "execute_result",
          "data": {
            "text/plain": [
              "0.8833333333333333"
            ]
          },
          "metadata": {},
          "execution_count": 21
        }
      ],
      "source": [
        "test(model)"
      ]
    },
    {
      "cell_type": "markdown",
      "metadata": {
        "id": "analyys_diagramm_pais"
      },
      "source": [
        "## Analüüs ja diagramm\n"
      ]
    },
    {
      "cell_type": "code",
      "execution_count": null,
      "metadata": {
        "id": "diagramm",
        "colab": {
          "base_uri": "https://localhost:8080/",
          "height": 520
        },
        "outputId": "b65c2477-48e3-4c57-846a-9c516dde688f"
      },
      "outputs": [
        {
          "output_type": "display_data",
          "data": {
            "text/plain": [
              "<Figure size 1000x600 with 1 Axes>"
            ],
            "image/png": "[encoded data removed]"
          },
          "metadata": {}
        }
      ],
      "source": [
        "import matplotlib.pyplot as plt\n",
        "\n",
        "model_names = [\"Bag-of-words\", \"Bag-of-words-lem\", \"Bag-of-words-lem-stop\", \"Word2Vec\", \"Word2Vec+prep\"]\n",
        "accuracies = [0.6, 0.59, 0.676, 0.843, 0.883]\n",
        "bar_width = 0.6\n",
        "plt.figure(figsize=(10, 6))\n",
        "plt.bar(model_names, accuracies, width=bar_width, color='lightpink')\n",
        "plt.xlabel(\"Mudeli nimi\")\n",
        "plt.ylabel(\"Täpsus\")\n",
        "plt.title(\"Mudelite täpsuse võrdlus testandmetel\")\n",
        "plt.ylim(0, 1.0)\n",
        "plt.xticks(rotation=45)\n",
        "\n",
        "# täpsus\n",
        "for i, acc in enumerate(accuracies):\n",
        "    plt.text(i, acc + 0.01, f\"{acc:.2f}\", ha='center')\n",
        "\n",
        "plt.tight_layout()\n",
        "plt.show()"
      ]
    },
    {
      "cell_type": "markdown",
      "metadata": {
        "id": "analyys"
      },
      "source": [
        "Esimene mudel andis tulemuse 0.6, mis on suheliselt kehva, teine mudel lemmatiseeritud andis sellest veel halvema tulemuse. Lemmatiseeritud ja ilma stop-sõnadeta oli tulemus parem -  0.67.\n",
        "Word2vec andis hea tulemuse - 0.84.\n",
        "Viimases mudelis kasutasin word2veci, sest see andis enne kõige täpsema tulemuse 0.84, tegin väikese eeltöötluse, et vaadata, kas saaks tulemust parandada. Sain lihtsa eeltöötlusega 0.883. Proovisin ka lemmatiseerida teksti, aga siis läks tulemus kehvemaks, võimalik et kadus mingi info konteksti kohta. Lisaks muutus lemmatiseerides tekst vähem mitmekesiseks.\n",
        "Seega kõige paremaks mudeliks oli word2vec, millele tekstidele oli tehtud lihtne eeltöötlus (stop-sõnad, lowercase ja eemaldatud punktuatsioon). Võimalik, et ka teiste mudelite tulemused oleks eeltöötlusega paranenud, aga seda selles töös ei jõudnud katsetada. Stop-sõnade list oli ca 32 sõna, neid sõnu on kindlasti rohkem. Edaspidi võiks ka proovida teha täpsema listi ja vaadata, mis siis mudelite täpsused tulevad.  "
      ]
    },
    {
      "cell_type": "markdown",
      "metadata": {
        "id": "varia"
      },
      "source": []
    }
  ],
  "metadata": {
    "colab": {
      "provenance": [],
      "include_colab_link": true
    },
    "kernelspec": {
      "display_name": "Python 3",
      "name": "python3"
    },
    "language_info": {
      "codemirror_mode": {
        "name": "ipython",
        "version": 3
      },
      "file_extension": ".py",
      "mimetype": "text/x-python",
      "name": "python",
      "nbconvert_exporter": "python",
      "pygments_lexer": "ipython3",
      "version": "3.10.12"
    }
  },
  "nbformat": 4,
  "nbformat_minor": 0
}